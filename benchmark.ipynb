{
 "cells": [
  {
   "cell_type": "markdown",
   "metadata": {},
   "source": [
    "# Benchmark of intersections of two lists"
   ]
  },
  {
   "cell_type": "code",
   "execution_count": 3,
   "metadata": {},
   "outputs": [],
   "source": [
    "from functools import total_ordering\n",
    "@total_ordering\n",
    "class Element:\n",
    "    def __init__(self, val: int):\n",
    "        self.val = val\n",
    "\n",
    "    def __eq__(self, o: object) -> bool:\n",
    "        if not isinstance(o, Element):\n",
    "            return NotImplemented\n",
    "        return self.val == o.val\n",
    "\n",
    "    def __lt__(self, o: object) -> bool:\n",
    "        if not isinstance(o, Element):\n",
    "            return NotImplemented\n",
    "        return self.val < o.val\n",
    "\n",
    "    def __hash__(self) -> int:\n",
    "        return self.val\n",
    "\n",
    "import time\n",
    "def time_fct(l1, l2, fct):\n",
    "    start = time.time()\n",
    "    fct(l1, l2)\n",
    "    return time.time() - start\n",
    "\n",
    "import random\n",
    "def run(size, fct):\n",
    "    l1 = [Element(random.randint(0, size)) for i in range(size)]\n",
    "    l2 = [Element(random.randint(0, size)) for i in range(size)]\n",
    "    return time_fct(l1, l2, fct)\n",
    "\n",
    "def test(fct):\n",
    "    size = 1000\n",
    "    l1 = [Element(random.randint(0, size)) for i in range(size)]\n",
    "    l2 = [Element(random.randint(0, size)) for i in range(size)]\n",
    "    inter = fct(l1, l2)\n",
    "    assert all((not e1 in l2) or (e1 in inter) for e1 in l1)\n",
    "    assert all((not e2 in l1) or (e2 in inter) for e2 in l2)"
   ]
  },
  {
   "cell_type": "markdown",
   "metadata": {},
   "source": [
    "## Python3 implementation"
   ]
  },
  {
   "cell_type": "code",
   "execution_count": 4,
   "metadata": {},
   "outputs": [],
   "source": [
    "def py_intersection_1(l1, l2):\n",
    "    return list(set(l1) & set(l2))\n",
    "\n",
    "def py_intersection_2(l1, l2):\n",
    "    return list(filter(lambda x: x in l1, l2))\n",
    "\n",
    "def py_intersection_3(l1, l2):\n",
    "    return [x for x in l1 if x in l2]\n",
    "\n",
    "def py_intersection_4(l1, l2):\n",
    "    s = set(l1)\n",
    "    return [x for x in l2 if x in s]\n",
    "\n",
    "def py_intersection_5(l1, l2):\n",
    "    d = { x:1 for x in l1 }\n",
    "    return [x for x in l2 if x in d]\n",
    "\n",
    "def py_intersection_6(l1, l2):\n",
    "    l1.sort()\n",
    "    l2.sort()\n",
    "    res = []\n",
    "    i1, i2 = 0, 0\n",
    "    while i1 < len(l1) and i2 < len(l2):\n",
    "        if l1[i1] < l2[i2]:\n",
    "            i1 += 1\n",
    "        elif l1[i1] > l2[i2]:\n",
    "            i2 += 1\n",
    "        else:\n",
    "            res.append(l1[i1])\n",
    "            i1 += 1\n",
    "            i2 += 1\n",
    "    return res\n",
    "\n",
    "intersections_py = [py_intersection_1, py_intersection_2, py_intersection_3, py_intersection_4, py_intersection_5, py_intersection_6]"
   ]
  },
  {
   "cell_type": "markdown",
   "metadata": {},
   "source": [
    "## C++ implementation"
   ]
  },
  {
   "cell_type": "code",
   "execution_count": 5,
   "metadata": {},
   "outputs": [],
   "source": [
    "import my_set\n",
    "\n",
    "def cpp_intersection_1(l1, l2):\n",
    "    return my_set.intersection_1(l1, l2)\n",
    "\n",
    "def cpp_intersection_2(l1, l2):\n",
    "    return my_set.intersection_2(l1, l2)\n",
    "\n",
    "intersections_cpp = [cpp_intersection_1, cpp_intersection_2]"
   ]
  },
  {
   "cell_type": "markdown",
   "metadata": {},
   "source": [
    "## Tests"
   ]
  },
  {
   "cell_type": "code",
   "execution_count": 6,
   "metadata": {},
   "outputs": [
    {
     "name": "stdout",
     "output_type": "stream",
     "text": [
      "cpp_intersection_1: Succeed\n",
      "cpp_intersection_2: Succeed\n",
      "py_intersection_1: Succeed\n",
      "py_intersection_2: Succeed\n",
      "py_intersection_3: Succeed\n",
      "py_intersection_4: Succeed\n",
      "py_intersection_5: Succeed\n",
      "py_intersection_6: Succeed\n"
     ]
    }
   ],
   "source": [
    "intersections_fct = intersections_cpp + intersections_py\n",
    "for fct in intersections_fct:\n",
    "    try:\n",
    "        test(fct)\n",
    "        print(\"%s: Succeed\" % fct.__name__)\n",
    "    except AssertionError:\n",
    "        print(\"%s: Failure\" % fct.__name__)"
   ]
  },
  {
   "cell_type": "markdown",
   "metadata": {},
   "source": [
    "## Benchmark"
   ]
  },
  {
   "cell_type": "code",
   "execution_count": 4,
   "metadata": {},
   "outputs": [],
   "source": [
    "sizes = [10, 100, 1000, 10000, 100000, 1000000, 10000000, 100000000]\n",
    "time_threshold = 1 # seconds"
   ]
  },
  {
   "cell_type": "code",
   "execution_count": 5,
   "metadata": {},
   "outputs": [
    {
     "name": "stdout",
     "output_type": "stream",
     "text": [
      "\n",
      "Size: 10\n",
      "\tpy_intersection_5: 0.000 sec\n",
      "\tcpp_intersection_1: 0.000 sec\n",
      "\tpy_intersection_4: 0.000 sec\n",
      "\tpy_intersection_1: 0.000 sec\n",
      "\tpy_intersection_3: 0.000 sec\n",
      "\tpy_intersection_2: 0.000 sec\n",
      "\tpy_intersection_6: 0.000 sec\n",
      "\tcpp_intersection_2: 0.000 sec\n",
      "\n",
      "Size: 100\n",
      "\tcpp_intersection_1: 0.000 sec\n",
      "\tpy_intersection_4: 0.000 sec\n",
      "\tpy_intersection_5: 0.000 sec\n",
      "\tpy_intersection_1: 0.000 sec\n",
      "\tcpp_intersection_2: 0.000 sec\n",
      "\tpy_intersection_6: 0.000 sec\n",
      "\tpy_intersection_2: 0.001 sec\n",
      "\tpy_intersection_3: 0.001 sec\n",
      "\n",
      "Size: 1000\n",
      "\tpy_intersection_5: 0.000 sec\n",
      "\tpy_intersection_4: 0.000 sec\n",
      "\tcpp_intersection_1: 0.001 sec\n",
      "\tpy_intersection_1: 0.001 sec\n",
      "\tpy_intersection_6: 0.004 sec\n",
      "\tcpp_intersection_2: 0.005 sec\n",
      "\tpy_intersection_3: 0.095 sec\n",
      "\tpy_intersection_2: 0.118 sec\n",
      "\n",
      "Size: 10000\n",
      "\tcpp_intersection_1: 0.003 sec\n",
      "\tpy_intersection_1: 0.006 sec\n",
      "\tpy_intersection_4: 0.007 sec\n",
      "\tpy_intersection_5: 0.008 sec\n",
      "\tcpp_intersection_2: 0.058 sec\n",
      "\tpy_intersection_6: 0.066 sec\n",
      "\tpy_intersection_3: 10.367 sec\n",
      "\t\tremove py_intersection_2\n",
      "\tpy_intersection_2: 11.728 sec\n",
      "\t\tremove py_intersection_2\n",
      "\n",
      "Size: 100000\n",
      "\tcpp_intersection_1: 0.043 sec\n",
      "\tpy_intersection_4: 0.083 sec\n",
      "\tpy_intersection_5: 0.096 sec\n",
      "\tpy_intersection_1: 0.100 sec\n",
      "\tcpp_intersection_2: 0.889 sec\n",
      "\tpy_intersection_6: 0.956 sec\n",
      "\n",
      "Size: 1000000\n",
      "\tcpp_intersection_1: 0.591 sec\n",
      "\tpy_intersection_4: 1.038 sec\n",
      "\tpy_intersection_5: 1.155 sec\n",
      "\tpy_intersection_1: 1.205 sec\n",
      "\tcpp_intersection_2: 12.077 sec\n",
      "\t\tremove py_intersection_6\n",
      "\tpy_intersection_6: 12.821 sec\n",
      "\t\tremove py_intersection_6\n",
      "\n",
      "Size: 10000000\n",
      "\tcpp_intersection_1: 6.604 sec\n",
      "\tpy_intersection_4: 11.097 sec\n",
      "\t\tremove py_intersection_5\n",
      "\tpy_intersection_1: 13.351 sec\n",
      "\t\tremove py_intersection_5\n",
      "\tpy_intersection_5: 14.774 sec\n",
      "\t\tremove py_intersection_5\n",
      "\n",
      "Size: 100000000\n",
      "\tcpp_intersection_1: 261.511 sec\n"
     ]
    }
   ],
   "source": [
    "intersections_fct = intersections_cpp + intersections_py\n",
    "for size in sizes:\n",
    "    print(\"\\nSize:\", size)\n",
    "    scores = [(fct, run(size, fct)) for fct in intersections_fct]\n",
    "    scores.sort(key=lambda x: x[1])\n",
    "    best_score = scores[0][1]\n",
    "    for score in scores:\n",
    "        print(\"\\t%s: %.3f sec\" % (score[0].__name__, score[1]))\n",
    "        if score[1] - best_score > time_threshold:\n",
    "            intersections_fct.remove(score[0])\n",
    "            print(\"\\t\\tremove %s\" % scores[-1][0].__name__)"
   ]
  }
 ],
 "metadata": {
  "interpreter": {
   "hash": "1bd990bc6b5f718b78f3ed5efd758835b54c5c22b4fda7f78d68a04352c038f1"
  },
  "jupytext": {
   "formats": "ipynb,py:percent"
  },
  "kernelspec": {
   "display_name": "Python 3.9.6 64-bit",
   "name": "python3"
  },
  "language_info": {
   "codemirror_mode": {
    "name": "ipython",
    "version": 3
   },
   "file_extension": ".py",
   "mimetype": "text/x-python",
   "name": "python",
   "nbconvert_exporter": "python",
   "pygments_lexer": "ipython3",
   "version": "3.9.6"
  }
 },
 "nbformat": 4,
 "nbformat_minor": 2
}
